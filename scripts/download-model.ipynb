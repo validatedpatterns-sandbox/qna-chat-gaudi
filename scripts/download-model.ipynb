{
 "cells": [
  {
   "cell_type": "markdown",
   "id": "518f19b2",
   "metadata": {},
   "source": [
    "Set required variables. To get values for S3_ENDPOINT, S3_ACCESS_KEY, S3_SECRET_KEY variables, run following command on the bastion/helper node: `oc extract -n openshift-storage secret/s3-secret-bck --to=-`"
   ]
  },
  {
   "cell_type": "code",
   "execution_count": null,
   "id": "940f8b50-5ad4-4aa6-97da-7e54cf13d448",
   "metadata": {},
   "outputs": [],
   "source": [
    "%env S3_ENDPOINT=<S3_RGW_ROUTE>\n",
    "%env S3_ACCESS_KEY=<AWS_ACCESS_KEY_ID>\n",
    "%env S3_SECRET_KEY=<AWS_SECRET_ACCESS_KEY>\n",
    "%env HF_TOKEN=<PASTE_HUGGINGFACE_TOKEN>"
   ]
  },
  {
   "cell_type": "markdown",
   "id": "7920e692",
   "metadata": {},
   "source": [
    "If the cluster is behind a proxy set proxy variables. If not you can skip following code block."
   ]
  },
  {
   "cell_type": "code",
   "execution_count": null,
   "id": "44d3635a-abd0-458e-8beb-746f7528ef1d",
   "metadata": {},
   "outputs": [],
   "source": [
    "%env http_proxy=<PASTE_HTTP_PROXY>\n",
    "%env https_proxy=<PASTE_HTTPS_PROXY>\n",
    "%env no_proxy=<PASTE_NO_PROXY>,${S3_ENDPOINT}\n",
    "%env NO_PROXY=<PASTE_NO_PROXY>,${S3_ENDPOINT}"
   ]
  },
  {
   "cell_type": "markdown",
   "id": "a19539b1",
   "metadata": {},
   "source": [
    "Install required huggingface package."
   ]
  },
  {
   "cell_type": "code",
   "execution_count": null,
   "id": "bd26a81e",
   "metadata": {},
   "outputs": [],
   "source": [
    "!pip install huggingface-hub"
   ]
  },
  {
   "cell_type": "markdown",
   "metadata": {},
   "source": [
    "Run Python script to download model from HuggingFace website to OpenShift RGW storage. It can take some time to download, depending on the model size."
   ]
  },
  {
   "cell_type": "code",
   "execution_count": null,
   "id": "7a41d13c-9f08-40d6-9973-c747bb85292d",
   "metadata": {},
   "outputs": [],
   "source": [
    "import os\n",
    "import boto3\n",
    "import botocore\n",
    "import glob\n",
    "\n",
    "from huggingface_hub import snapshot_download\n",
    "\n",
    "import warnings\n",
    "warnings.filterwarnings(\"ignore\")\n",
    "\n",
    "\n",
    "bucket_name = 'model-bucket'\n",
    "s3_endpoint = os.environ.get('S3_ENDPOINT')\n",
    "s3_accesskey = os.environ.get('S3_ACCESS_KEY')\n",
    "s3_secretkey = os.environ.get('S3_SECRET_KEY')\n",
    "path = 'models'\n",
    "hf_token = os.environ.get('HF_TOKEN')\n",
    "\n",
    "config = botocore.config.Config(proxies={})\n",
    "session = boto3.session.Session()\n",
    "s3_resource = session.resource('s3',\n",
    "                               endpoint_url=s3_endpoint,\n",
    "                               verify=False,\n",
    "                               aws_access_key_id=s3_accesskey,\n",
    "                               aws_secret_access_key=s3_secretkey, config=config)\n",
    "\n",
    "bucket = s3_resource.Bucket(bucket_name)\n",
    "\n",
    "print('Downloading model...')\n",
    "snapshot_download(\"meta-llama/Llama-2-70b-chat-hf\", cache_dir=f'./models', token=hf_token)\n",
    "\n",
    "files = (file for file in glob.glob(f'{path}/**/*', recursive=True) if os.path.isfile(file) and \"snapshots\" in file)\n",
    "\n",
    "print('Updating files to s3...')\n",
    "for filename in files:\n",
    "    s3_name = filename.replace(path, '')\n",
    "    print(f'Uploading: {filename} to {path}{s3_name}')\n",
    "    bucket.upload_file(filename, f'{path}{s3_name}')"
   ]
  }
 ],
 "metadata": {
  "kernelspec": {
   "display_name": "Python 3.8",
   "language": "python",
   "name": "python3"
  },
  "language_info": {
   "codemirror_mode": {
    "name": "ipython",
    "version": 3
   },
   "file_extension": ".py",
   "mimetype": "text/x-python",
   "name": "python",
   "nbconvert_exporter": "python",
   "pygments_lexer": "ipython3",
   "version": "3.8.17"
  }
 },
 "nbformat": 4,
 "nbformat_minor": 5
}
